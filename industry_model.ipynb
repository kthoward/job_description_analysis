{
 "cells": [
  {
   "cell_type": "code",
   "execution_count": 1,
   "metadata": {},
   "outputs": [],
   "source": [
    "import preprocessing\n",
    "import pandas as pd\n",
    "\n",
    "import seaborn as sns\n",
    "import matplotlib.pyplot as plt\n",
    "\n",
    "%matplotlib inline"
   ]
  },
  {
   "cell_type": "code",
   "execution_count": 2,
   "metadata": {},
   "outputs": [],
   "source": [
    "df = preprocessing.load_df()\n"
   ]
  },
  {
   "cell_type": "code",
   "execution_count": 3,
   "metadata": {},
   "outputs": [],
   "source": [
    "df['jobDescription'] = df['jobDescription'].map(preprocessing.clean_job_description)"
   ]
  },
  {
   "cell_type": "code",
   "execution_count": 4,
   "metadata": {},
   "outputs": [
    {
     "data": {
      "text/plain": [
       "Index(['companyInfo', 'summary', 'isGallery', 'isCompanyTab', 'locations',\n",
       "       'jobDescription', 'wrapIntoFrame', 'jobId', 'folderId', 'isCao',\n",
       "       'isAggregateAndStreamlineLogin', 'isExpired', 'applyFlowType',\n",
       "       'reportJobUrl', 'trackingUrl', 'globalVars', 'adobeTrackingProperties',\n",
       "       'isConfidential', 'isCustomApplyOnlineJob', 'isPPCDirectClickHosted',\n",
       "       'isSubscriberPanelEnabled', 'speedApplyData', 'isAuthentificated',\n",
       "       'isUnrecognized', 'authenticationForSaveJobUrl',\n",
       "       'authenticationForEmailFriendUrl', 'authenticationForResumeUploadUrl',\n",
       "       'customApplyUrl', 'submitButtonUrl', 'jobApplyType',\n",
       "       'jobIdentification', 'remoteSubscriptionUrl', 'saveUrl',\n",
       "       'isSaveEnabled', 'isSavedJob', 'isEmailFriendEnabled',\n",
       "       'jobApplyTypeAvailable', 'jobApplyAttribute', 'jobApplyPageType',\n",
       "       'enableStandardApplyTracking', 'applyStartTrackingAttributesJson',\n",
       "       'loginPageUrl', 'loginPageIFrameUrl', 'loginPageIFrameUrlAggParam',\n",
       "       'loginPageIFrameUrlSignIn', 'isEmailCaptchaEnabled', 'emailRemoteUrl',\n",
       "       'sendFromPlaceholder', 'sendFromValue', 'cao',\n",
       "       'isSpeedApplyOptInDialog', 'isSpeedApply', 'captchaLngCode',\n",
       "       'captchaSiteKey', 'alerts', 'isGdprEnabled', 'providerTrackingUrl',\n",
       "       'resumeMatch', 'splits', 'privacyUrl', 'termsUrl', 'cookieUrl',\n",
       "       'jobType', 'isCloud', 'applyStartCoreTrackAttributes',\n",
       "       'isLoginIframeEnabled', 'locationTypeAheadUrl', 'createAccountUrl',\n",
       "       'extractPersonalDataUrl', 'resumeUpdateInfoUrl', 'resumeDownloadUrl',\n",
       "       'mescoId', 'jobOccCategory', 'jobLocationCountry', 'jobLocationRegion',\n",
       "       'jobLocationCity', 'fromCache', 'isModelLoginForEmailFriendEnabled',\n",
       "       'competitiveMotivators', 'resumeSelector', 'crawl_time', 'jobCategory',\n",
       "       'postedDate', 'videos', 'contacts', 'salary', 'jobIndustry',\n",
       "       'positionType', 'images', 'benefits', 'frameContent', 'videoMyJob',\n",
       "       'mean_salary', 'industryName'],\n",
       "      dtype='object')"
      ]
     },
     "execution_count": 4,
     "metadata": {},
     "output_type": "execute_result"
    }
   ],
   "source": [
    "df.columns"
   ]
  },
  {
   "cell_type": "code",
   "execution_count": 5,
   "metadata": {
    "scrolled": false
   },
   "outputs": [
    {
     "data": {
      "text/plain": [
       "'ClubLabs is the digital acceleration team for Automobile Club of Southern California, also known as, AAA. We are the team responsible for building intuitive customer experiences across the organizatio'"
      ]
     },
     "execution_count": 5,
     "metadata": {},
     "output_type": "execute_result"
    }
   ],
   "source": [
    "df['jobDescription'].iloc[1][0:200]"
   ]
  },
  {
   "cell_type": "code",
   "execution_count": 12,
   "metadata": {},
   "outputs": [
    {
     "data": {
      "text/plain": [
       "                                      21642\n",
       "Retail                                 5421\n",
       "Other                                  3562\n",
       "Travel, Transportation and Tourism     2902\n",
       "Staffing/Employment Agencies           1981\n",
       "                                      ...  \n",
       "Real Estate, Rental and Leasing           3\n",
       "Broadcasting, Music, and Film             2\n",
       "Personal and Household Services           2\n",
       "Agriculture/Forestry/Fishing              1\n",
       "Shipping                                  1\n",
       "Name: industryName, Length: 79, dtype: int64"
      ]
     },
     "execution_count": 12,
     "metadata": {},
     "output_type": "execute_result"
    }
   ],
   "source": [
    "df['industryName'].value_counts()"
   ]
  },
  {
   "cell_type": "code",
   "execution_count": 16,
   "metadata": {},
   "outputs": [
    {
     "data": {
      "text/plain": [
       "<matplotlib.axes._subplots.AxesSubplot at 0x125b82450>"
      ]
     },
     "execution_count": 16,
     "metadata": {},
     "output_type": "execute_result"
    },
    {
     "data": {
      "image/png": "[encoded data removed]",
      "text/plain": [
       "<Figure size 432x288 with 1 Axes>"
      ]
     },
     "metadata": {
      "needs_background": "light"
     },
     "output_type": "display_data"
    }
   ],
   "source": [
    "counts = df['industryName'].value_counts().iloc[1:20]\n",
    "sns.barplot(y=counts.index, x=counts, orient='h')"
   ]
  },
  {
   "cell_type": "code",
   "execution_count": null,
   "metadata": {},
   "outputs": [],
   "source": []
  }
 ],
 "metadata": {
  "kernelspec": {
   "display_name": "Python 3",
   "language": "python",
   "name": "python3"
  },
  "language_info": {
   "codemirror_mode": {
    "name": "ipython",
    "version": 3
   },
   "file_extension": ".py",
   "mimetype": "text/x-python",
   "name": "python",
   "nbconvert_exporter": "python",
   "pygments_lexer": "ipython3",
   "version": "3.7.4"
  }
 },
 "nbformat": 4,
 "nbformat_minor": 2
}
