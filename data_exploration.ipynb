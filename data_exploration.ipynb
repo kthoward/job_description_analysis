{
 "cells": [
  {
   "cell_type": "code",
   "execution_count": 25,
   "metadata": {},
   "outputs": [],
   "source": [
    "import pandas as pd\n",
    "import glob\n",
    "import os.path\n",
    "import re\n",
    "import matplotlib.pyplot as plt\n",
    "\n",
    "%matplotlib inline"
   ]
  },
  {
   "cell_type": "code",
   "execution_count": 3,
   "metadata": {},
   "outputs": [
    {
     "data": {
      "text/plain": [
       "['../../data/job_board_data/deep_export_los-angeles-ca_2019-08-31.jsl',\n",
       " '../../data/job_board_data/deep_export_boston-ma_2019-09-01.jsl',\n",
       " '../../data/job_board_data/deep_export_new-york-city-ny_2019-08-12.jsl']"
      ]
     },
     "execution_count": 3,
     "metadata": {},
     "output_type": "execute_result"
    }
   ],
   "source": [
    "data_path = \"../../data/job_board_data/\"\n",
    "files = glob.glob(os.path.join(data_path, \"*export*.jsl\"))\n",
    "files"
   ]
  },
  {
   "cell_type": "code",
   "execution_count": 12,
   "metadata": {},
   "outputs": [],
   "source": [
    "df = pd.read_json(files[0], lines=True)"
   ]
  },
  {
   "cell_type": "code",
   "execution_count": 13,
   "metadata": {},
   "outputs": [
    {
     "data": {
      "text/plain": [
       "Index(['companyInfo', 'summary', 'isGallery', 'isCompanyTab', 'locations',\n",
       "       'jobDescription', 'wrapIntoFrame', 'jobId', 'folderId', 'isCao',\n",
       "       'isAggregateAndStreamlineLogin', 'isExpired', 'applyFlowType',\n",
       "       'reportJobUrl', 'trackingUrl', 'globalVars', 'adobeTrackingProperties',\n",
       "       'isConfidential', 'isCustomApplyOnlineJob', 'isPPCDirectClickHosted',\n",
       "       'isSubscriberPanelEnabled', 'speedApplyData', 'isAuthentificated',\n",
       "       'isUnrecognized', 'authenticationForSaveJobUrl',\n",
       "       'authenticationForEmailFriendUrl', 'authenticationForResumeUploadUrl',\n",
       "       'customApplyUrl', 'submitButtonUrl', 'jobApplyType',\n",
       "       'jobIdentification', 'remoteSubscriptionUrl', 'saveUrl',\n",
       "       'isSaveEnabled', 'isSavedJob', 'isEmailFriendEnabled',\n",
       "       'jobApplyTypeAvailable', 'jobApplyAttribute', 'jobApplyPageType',\n",
       "       'enableStandardApplyTracking', 'applyStartTrackingAttributesJson',\n",
       "       'loginPageUrl', 'loginPageIFrameUrl', 'loginPageIFrameUrlAggParam',\n",
       "       'loginPageIFrameUrlSignIn', 'isEmailCaptchaEnabled', 'emailRemoteUrl',\n",
       "       'sendFromPlaceholder', 'sendFromValue', 'cao',\n",
       "       'isSpeedApplyOptInDialog', 'isSpeedApply', 'captchaLngCode',\n",
       "       'captchaSiteKey', 'alerts', 'isGdprEnabled', 'providerTrackingUrl',\n",
       "       'resumeMatch', 'splits', 'privacyUrl', 'termsUrl', 'cookieUrl',\n",
       "       'jobType', 'isCloud', 'applyStartCoreTrackAttributes',\n",
       "       'isLoginIframeEnabled', 'locationTypeAheadUrl', 'createAccountUrl',\n",
       "       'extractPersonalDataUrl', 'resumeUpdateInfoUrl', 'resumeDownloadUrl',\n",
       "       'mescoId', 'jobOccCategory', 'jobLocationCountry', 'jobLocationRegion',\n",
       "       'jobLocationCity', 'fromCache', 'isModelLoginForEmailFriendEnabled',\n",
       "       'competitiveMotivators', 'resumeSelector', 'crawl_time', 'jobCategory',\n",
       "       'postedDate', 'videos', 'contacts', 'salary', 'jobIndustry',\n",
       "       'positionType', 'images', 'benefits', 'frameContent', 'videoMyJob'],\n",
       "      dtype='object')"
      ]
     },
     "execution_count": 13,
     "metadata": {},
     "output_type": "execute_result"
    }
   ],
   "source": [
    "df.columns"
   ]
  },
  {
   "cell_type": "code",
   "execution_count": 14,
   "metadata": {},
   "outputs": [
    {
     "data": {
      "text/plain": [
       "                                      21642\n",
       "Retail                                 5421\n",
       "Other                                  3562\n",
       "Travel, Transportation and Tourism     2902\n",
       "Staffing/Employment Agencies           1981\n",
       "                                      ...  \n",
       "Real Estate, Rental and Leasing           3\n",
       "Broadcasting, Music, and Film             2\n",
       "Personal and Household Services           2\n",
       "Agriculture/Forestry/Fishing              1\n",
       "Shipping                                  1\n",
       "Name: companyInfo, Length: 79, dtype: int64"
      ]
     },
     "execution_count": 14,
     "metadata": {},
     "output_type": "execute_result"
    }
   ],
   "source": [
    "df.companyInfo.map(lambda x: x['industryName'] if 'industryName' in x else \"\").value_counts()"
   ]
  },
  {
   "cell_type": "code",
   "execution_count": 15,
   "metadata": {},
   "outputs": [],
   "source": [
    "def salary_from_string(s):\n",
    "    subs = s.split('$')\n",
    "    if len(subs) == 1:\n",
    "        return None\n",
    "    all_numbers = []\n",
    "    for sub in subs[1:]:\n",
    "        if(len(sub.strip())>0):\n",
    "            sub = sub.replace('K', '000').strip()\n",
    "            number = re.split('[ab /\\-\\+!]',sub)[0]\n",
    "#             print(number)\n",
    "            all_numbers.append(float(number.replace(',','')))\n",
    "    return sum(all_numbers)/len(all_numbers)"
   ]
  },
  {
   "cell_type": "code",
   "execution_count": 17,
   "metadata": {},
   "outputs": [
    {
     "data": {
      "text/plain": [
       "0                                                      NaN\n",
       "1                                                      NaN\n",
       "2                                                      NaN\n",
       "3        {'title': 'Salary', 'rangeText': '<br />Market...\n",
       "4                                                      NaN\n",
       "                               ...                        \n",
       "53621                                                  NaN\n",
       "53622                                                  NaN\n",
       "53623                                                  NaN\n",
       "53624                                                  NaN\n",
       "53625                                                  NaN\n",
       "Name: salary, Length: 53626, dtype: object"
      ]
     },
     "execution_count": 17,
     "metadata": {},
     "output_type": "execute_result"
    }
   ],
   "source": [
    "df['salary']"
   ]
  },
  {
   "cell_type": "code",
   "execution_count": 38,
   "metadata": {},
   "outputs": [
    {
     "data": {
      "text/plain": [
       "0.9703874986014247"
      ]
     },
     "execution_count": 38,
     "metadata": {},
     "output_type": "execute_result"
    }
   ],
   "source": [
    "## looks like about 3 percent of listings include a salary\n",
    "df['salary'].isna().sum()/len(df)"
   ]
  },
  {
   "cell_type": "code",
   "execution_count": 39,
   "metadata": {},
   "outputs": [
    {
     "data": {
      "text/plain": [
       "(1588,)"
      ]
     },
     "execution_count": 39,
     "metadata": {},
     "output_type": "execute_result"
    }
   ],
   "source": [
    "df['salary'].dropna().shape"
   ]
  },
  {
   "cell_type": "code",
   "execution_count": 31,
   "metadata": {},
   "outputs": [],
   "source": [
    "df['mean_salary'] = df['salary'].map(lambda x: salary_from_string(x['rangeText']) if not pd.isna(x) else None)\n",
    "## some salaries are hourly\n",
    "df['mean_salary'] = df['mean_salary'].map(lambda x: x*40*50 if x<100 else x)"
   ]
  },
  {
   "cell_type": "code",
   "execution_count": 35,
   "metadata": {},
   "outputs": [
    {
     "data": {
      "text/plain": [
       "<matplotlib.axes._subplots.AxesSubplot at 0x29c81b410>"
      ]
     },
     "execution_count": 35,
     "metadata": {},
     "output_type": "execute_result"
    },
    {
     "data": {
      "image/png": "[encoded data removed]",
      "text/plain": [
       "<Figure size 432x288 with 1 Axes>"
      ]
     },
     "metadata": {
      "needs_background": "light"
     },
     "output_type": "display_data"
    }
   ],
   "source": [
    "df['mean_salary'].clip(0,300000).hist(bins=30)"
   ]
  },
  {
   "cell_type": "code",
   "execution_count": null,
   "metadata": {},
   "outputs": [],
   "source": []
  }
 ],
 "metadata": {
  "kernelspec": {
   "display_name": "Python 3",
   "language": "python",
   "name": "python3"
  },
  "language_info": {
   "codemirror_mode": {
    "name": "ipython",
    "version": 3
   },
   "file_extension": ".py",
   "mimetype": "text/x-python",
   "name": "python",
   "nbconvert_exporter": "python",
   "pygments_lexer": "ipython3",
   "version": "3.7.4"
  }
 },
 "nbformat": 4,
 "nbformat_minor": 2
}
